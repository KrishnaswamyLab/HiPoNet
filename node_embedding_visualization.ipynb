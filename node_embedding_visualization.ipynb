{
 "cells": [
  {
   "cell_type": "code",
   "execution_count": 2,
   "id": "c3744ef5",
   "metadata": {},
   "outputs": [],
   "source": [
    "import torch\n",
    "import pathlib\n",
    "from models.graph_learning import HiPoNet, MLPAutoEncoder\n",
    "from utils.read_data import load_data"
   ]
  },
  {
   "cell_type": "code",
   "execution_count": 3,
   "id": "7923748f",
   "metadata": {},
   "outputs": [],
   "source": [
    "slurm_job_id = \"1779231\"\n",
    "weights_loc = pathlib.Path(f\"model_weights/{slurm_job_id}\")"
   ]
  },
  {
   "cell_type": "code",
   "execution_count": 4,
   "id": "d1538f97",
   "metadata": {},
   "outputs": [],
   "source": [
    "device = \"cpu\"\n",
    "PC_gene, PC_spatial = load_data(\"data/sea\", \"\")\n",
    "model_spatial = (\n",
    "    HiPoNet(\n",
    "        dimension=PC_spatial[0].shape[1],\n",
    "        n_weights=1,\n",
    "        threshold=0.15,\n",
    "        K=1,\n",
    "        J=3,\n",
    "        device=\"cpu\",\n",
    "        sigma=10,\n",
    "        pooling=False,\n",
    "    )\n",
    "    .to(device)\n",
    "    .float()\n",
    ")\n",
    "model_gene = (\n",
    "    HiPoNet(\n",
    "        dimension=PC_gene[0].shape[1],\n",
    "        n_weights=1,\n",
    "        threshold=0.15,\n",
    "        K=1,\n",
    "        J=3,\n",
    "        device=\"cpu\",\n",
    "        sigma=10,\n",
    "        pooling=False,\n",
    "    )\n",
    "    .to(device)\n",
    "    .float()\n",
    ")\n",
    "with torch.no_grad():\n",
    "    input_dim = (\n",
    "        model_spatial(\n",
    "            PC_spatial[0][:5].unsqueeze(0).to(device),\n",
    "            torch.zeros((1, 5), dtype=torch.bool).to(device),\n",
    "        ).shape[1]\n",
    "        + model_gene(\n",
    "            PC_gene[0][:5].unsqueeze(0).to(device),\n",
    "            torch.zeros((1, 5), dtype=torch.bool).to(device),\n",
    "        ).shape[1]\n",
    "    )\n",
    "autoencoder = MLPAutoEncoder(\n",
    "    input_dim, 256, 4, 3, bn=False\n",
    ")"
   ]
  },
  {
   "cell_type": "code",
   "execution_count": 9,
   "id": "3f305370",
   "metadata": {},
   "outputs": [
    {
     "data": {
      "text/plain": [
       "(<All keys matched successfully>,\n",
       " <All keys matched successfully>,\n",
       " <All keys matched successfully>)"
      ]
     },
     "execution_count": 9,
     "metadata": {},
     "output_type": "execute_result"
    }
   ],
   "source": [
    "train_test_split = torch.load(weights_loc / \"split_idx.pt\")\n",
    "(\n",
    "    autoencoder.load_state_dict(\n",
    "        torch.load(weights_loc / \"autoenc.pt\", map_location=device)\n",
    "    ),\n",
    "    model_gene.load_state_dict(\n",
    "        torch.load(weights_loc / \"model_gene.pt\", map_location=device)\n",
    "    ),\n",
    "    model_spatial.load_state_dict(\n",
    "        torch.load(weights_loc / \"model_spatial.pt\", map_location=device)\n",
    "    ),\n",
    ")"
   ]
  }
 ],
 "metadata": {
  "kernelspec": {
   "display_name": "pointcloudnet",
   "language": "python",
   "name": "python3"
  },
  "language_info": {
   "codemirror_mode": {
    "name": "ipython",
    "version": 3
   },
   "file_extension": ".py",
   "mimetype": "text/x-python",
   "name": "python",
   "nbconvert_exporter": "python",
   "pygments_lexer": "ipython3",
   "version": "3.11.13"
  }
 },
 "nbformat": 4,
 "nbformat_minor": 5
}
